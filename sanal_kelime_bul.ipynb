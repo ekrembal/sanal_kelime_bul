{
 "cells": [
  {
   "cell_type": "code",
   "execution_count": 1,
   "metadata": {},
   "outputs": [],
   "source": [
    "import math\n",
    "import random"
   ]
  },
  {
   "cell_type": "code",
   "execution_count": 2,
   "metadata": {},
   "outputs": [],
   "source": [
    "alfabe = \" \\nabcçdefgğhıijklmnoöprsştuüvyz\"\n",
    "harf = {}\n",
    "for i in range(len(alfabe)):\n",
    "    harf[alfabe[i]] = i\n",
    "k = len(alfabe)#alfabe uzunlugu\n",
    "n = k**3\n",
    "m = k\n",
    "ngram = [[0 for i in range(m)] for j in range(n)]"
   ]
  },
  {
   "cell_type": "code",
   "execution_count": 3,
   "metadata": {},
   "outputs": [],
   "source": [
    "def sayi_yap(s):\n",
    "    sayi = 0\n",
    "    for c in s:\n",
    "        sayi = sayi * k + harf[c]\n",
    "    return sayi"
   ]
  },
  {
   "cell_type": "code",
   "execution_count": 4,
   "metadata": {},
   "outputs": [],
   "source": [
    "def ekle(kelime):\n",
    "    kelime += '\\n'\n",
    "    bas = \"   \"\n",
    "    for c in kelime:\n",
    "        ngram[sayi_yap(bas)][harf[c]] += 1\n",
    "        bas = bas[1:] + c"
   ]
  },
  {
   "cell_type": "code",
   "execution_count": 5,
   "metadata": {},
   "outputs": [],
   "source": [
    "def olasilik_yap():\n",
    "    for i in range(n):\n",
    "        top = sum(ngram[i])\n",
    "        for j in range(m):\n",
    "            ngram[i][j] = math.log((ngram[i][j] + 1)/(top + k))"
   ]
  },
  {
   "cell_type": "code",
   "execution_count": 6,
   "metadata": {},
   "outputs": [],
   "source": [
    "def olasilik_hesapla(kelime):\n",
    "    kelime += '\\n'\n",
    "    bas = \"   \"\n",
    "    olasilik = 0\n",
    "    for c in kelime:\n",
    "        olasilik += ngram[sayi_yap(bas)][harf[c]]\n",
    "        bas = bas[1:] + c\n",
    "    return (1/math.exp(olasilik))**(1/len(kelime))"
   ]
  },
  {
   "cell_type": "code",
   "execution_count": 7,
   "metadata": {},
   "outputs": [],
   "source": [
    "f = open('words.txt', 'r')\n",
    "for kelime in f:\n",
    "    ekle(kelime[:-1])\n",
    "f.close()"
   ]
  },
  {
   "cell_type": "code",
   "execution_count": 8,
   "metadata": {},
   "outputs": [],
   "source": [
    "olasilik_yap()"
   ]
  },
  {
   "cell_type": "code",
   "execution_count": 9,
   "metadata": {},
   "outputs": [
    {
     "data": {
      "text/plain": [
       "83.29247475855762"
      ]
     },
     "execution_count": 9,
     "metadata": {},
     "output_type": "execute_result"
    }
   ],
   "source": [
    "olasilik_hesapla('jiodehfub')"
   ]
  },
  {
   "cell_type": "code",
   "execution_count": 10,
   "metadata": {},
   "outputs": [],
   "source": [
    "f = open('words.txt', 'r')\n",
    "say = 0\n",
    "toplam = 0\n",
    "for kelime in f:\n",
    "    say += 1\n",
    "    toplam += olasilik_hesapla(kelime[:-1])\n",
    "f.close()"
   ]
  },
  {
   "cell_type": "code",
   "execution_count": 11,
   "metadata": {},
   "outputs": [
    {
     "name": "stdout",
     "output_type": "stream",
     "text": [
      "6548746.543873115 1140208 5.743466581424719\n"
     ]
    }
   ],
   "source": [
    "print(toplam, say, toplam/say)"
   ]
  },
  {
   "cell_type": "code",
   "execution_count": 12,
   "metadata": {},
   "outputs": [
    {
     "name": "stdout",
     "output_type": "stream",
     "text": [
      "5.743466581424719\n"
     ]
    }
   ],
   "source": [
    "ortalama = toplam/say\n",
    "print(ortalama)"
   ]
  },
  {
   "cell_type": "code",
   "execution_count": 13,
   "metadata": {},
   "outputs": [],
   "source": [
    "f = open('words.txt', 'r')\n",
    "say2 = 0\n",
    "liste = [0 for i in range(1140208)]\n",
    "for kelime in f:\n",
    "    liste[say2] = olasilik_hesapla(kelime[:-1])\n",
    "    say2 += 1\n",
    "f.close()"
   ]
  },
  {
   "cell_type": "code",
   "execution_count": 14,
   "metadata": {},
   "outputs": [
    {
     "name": "stdout",
     "output_type": "stream",
     "text": [
      "1140208\n"
     ]
    }
   ],
   "source": [
    "print(len(liste))"
   ]
  },
  {
   "cell_type": "code",
   "execution_count": 15,
   "metadata": {},
   "outputs": [],
   "source": [
    "liste.sort()"
   ]
  },
  {
   "cell_type": "code",
   "execution_count": 16,
   "metadata": {},
   "outputs": [],
   "source": [
    "mn = liste[(99*len(liste))//100]"
   ]
  },
  {
   "cell_type": "code",
   "execution_count": 17,
   "metadata": {},
   "outputs": [],
   "source": [
    "f = open('words.txt', 'r')\n",
    "say3 = 0\n",
    "sozluk = [0 for i in range(1140208)]\n",
    "for kelime in f:\n",
    "    sozluk[say3] = kelime[:-1]\n",
    "    say3 += 1\n",
    "f.close()"
   ]
  },
  {
   "cell_type": "code",
   "execution_count": 18,
   "metadata": {},
   "outputs": [],
   "source": [
    "def sor(kelime):\n",
    "    if(kelime in sozluk):\n",
    "        return -1\n",
    "    elif(olasilik_hesapla(kelime) > mn):\n",
    "        return 0\n",
    "    else:\n",
    "        return 1"
   ]
  },
  {
   "cell_type": "code",
   "execution_count": 19,
   "metadata": {},
   "outputs": [
    {
     "data": {
      "text/plain": [
       "1"
      ]
     },
     "execution_count": 19,
     "metadata": {},
     "output_type": "execute_result"
    }
   ],
   "source": [
    "sor('ekrem')"
   ]
  },
  {
   "cell_type": "code",
   "execution_count": 20,
   "metadata": {},
   "outputs": [],
   "source": [
    "def oyun():\n",
    "    harfler= ''.join(random.sample(alfabe[2:], 15))\n",
    "    print('izinli harfler:',harfler)\n",
    "    while(True):\n",
    "        kelime = input('tahminini gir: ')\n",
    "        dogru_mu = 1\n",
    "        for c in kelime:\n",
    "            if(not c in harfler):\n",
    "                dogru_mu = 0\n",
    "                break\n",
    "        if(dogru_mu == 0):\n",
    "            print('duzgun gelime gir')\n",
    "            continue\n",
    "        sonuc = sor(kelime)\n",
    "        if(sonuc == -1):\n",
    "            print('bu kelime sozlukte var')\n",
    "        elif(sonuc == 0):\n",
    "            print('bu kelime turkceye benzemiyor')\n",
    "        else:\n",
    "            print('helal bildin')\n",
    "            break"
   ]
  },
  {
   "cell_type": "code",
   "execution_count": 22,
   "metadata": {},
   "outputs": [
    {
     "name": "stdout",
     "output_type": "stream",
     "text": [
      "izinli harfler: zşögeirjplığdvo\n",
      "tahminini gir: şör\n",
      "bu kelime turkceye benzemiyor\n",
      "tahminini gir: gel\n",
      "bu kelime sozlukte var\n",
      "tahminini gir: gelo\n",
      "bu kelime turkceye benzemiyor\n",
      "tahminini gir: gelop\n",
      "bu kelime turkceye benzemiyor\n",
      "tahminini gir: gelep\n",
      "helal bildin\n"
     ]
    }
   ],
   "source": [
    "oyun()"
   ]
  },
  {
   "cell_type": "code",
   "execution_count": null,
   "metadata": {},
   "outputs": [],
   "source": []
  }
 ],
 "metadata": {
  "kernelspec": {
   "display_name": "Python 3",
   "language": "python",
   "name": "python3"
  },
  "language_info": {
   "codemirror_mode": {
    "name": "ipython",
    "version": 3
   },
   "file_extension": ".py",
   "mimetype": "text/x-python",
   "name": "python",
   "nbconvert_exporter": "python",
   "pygments_lexer": "ipython3",
   "version": "3.7.7"
  }
 },
 "nbformat": 4,
 "nbformat_minor": 4
}
